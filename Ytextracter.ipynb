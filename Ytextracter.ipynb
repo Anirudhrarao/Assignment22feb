{
 "cells": [
  {
   "cell_type": "code",
   "execution_count": 129,
   "id": "6ba23ebf",
   "metadata": {},
   "outputs": [],
   "source": [
    "from bs4 import BeautifulSoup\n",
    "from selenium import webdriver\n",
    "# from selenium.webdriver.chrome.service import Service\n",
    "from webdriver_manager.chrome import ChromeDriverManager"
   ]
  },
  {
   "cell_type": "code",
   "execution_count": 130,
   "id": "6d429874",
   "metadata": {},
   "outputs": [
    {
     "name": "stderr",
     "output_type": "stream",
     "text": [
      "C:\\Users\\DELL\\AppData\\Local\\Temp\\ipykernel_1448\\2786177129.py:1: DeprecationWarning: executable_path has been deprecated, please pass in a Service object\n",
      "  driver = webdriver.Chrome(executable_path=ChromeDriverManager().install())\n"
     ]
    }
   ],
   "source": [
    "driver = webdriver.Chrome(executable_path=ChromeDriverManager().install())"
   ]
  },
  {
   "cell_type": "code",
   "execution_count": 131,
   "id": "67b3506e",
   "metadata": {},
   "outputs": [],
   "source": [
    "driver.get(\"https://www.youtube.com/@PW-Foundation/videos\")"
   ]
  },
  {
   "cell_type": "code",
   "execution_count": 132,
   "id": "5c39b31b",
   "metadata": {},
   "outputs": [],
   "source": [
    "content = driver.page_source"
   ]
  },
  {
   "cell_type": "code",
   "execution_count": 133,
   "id": "ad22595e",
   "metadata": {},
   "outputs": [],
   "source": [
    "soup = BeautifulSoup(content,\"html.parser\")"
   ]
  },
  {
   "cell_type": "code",
   "execution_count": 134,
   "id": "027798f9",
   "metadata": {},
   "outputs": [],
   "source": [
    "video_url = soup.find_all('a',{\"class\":\"yt-simple-endpoint inline-block style-scope ytd-thumbnail\"})"
   ]
  },
  {
   "cell_type": "code",
   "execution_count": 135,
   "id": "a25d621d",
   "metadata": {},
   "outputs": [],
   "source": [
    "# del video_url[0]\n",
    "# a = video_url[1]"
   ]
  },
  {
   "cell_type": "code",
   "execution_count": null,
   "id": "67c95f90",
   "metadata": {},
   "outputs": [],
   "source": []
  },
  {
   "cell_type": "code",
   "execution_count": 137,
   "id": "92977904",
   "metadata": {},
   "outputs": [
    {
     "name": "stdout",
     "output_type": "stream",
     "text": [
      "https://www.youtube.com/watch?v=nX5ONgCdLcc\n",
      "https://www.youtube.com/watch?v=AM2Dt7cNebw\n",
      "https://www.youtube.com/watch?v=7nMJVhey9TM\n",
      "https://www.youtube.com/watch?v=FSVVlcFUCMk\n",
      "https://www.youtube.com/watch?v=vKxdTuOirnI\n"
     ]
    }
   ],
   "source": [
    "for i in video_url[1:6]:\n",
    "    print(\"https://www.youtube.com\"+i['href'])"
   ]
  },
  {
   "cell_type": "code",
   "execution_count": 138,
   "id": "3e2b469e",
   "metadata": {},
   "outputs": [],
   "source": [
    "\n",
    "thumbnail_url = soup.find_all('img',{'class':\"yt-core-image--fill-parent-height yt-core-image--fill-parent-width yt-core-image yt-core-image--content-mode-scale-aspect-fill yt-core-image--loaded\"})"
   ]
  },
  {
   "cell_type": "code",
   "execution_count": 139,
   "id": "81df9f31",
   "metadata": {},
   "outputs": [
    {
     "name": "stdout",
     "output_type": "stream",
     "text": [
      "https://i.ytimg.com/vi/nX5ONgCdLcc/hqdefault.jpg?sqp=-oaymwEcCNACELwBSFXyq4qpAw4IARUAAIhCGAFwAcABBg==&rs=AOn4CLBaa_KLfKyYbUYRsb5xf0YCp1YrlQ\n",
      "https://i.ytimg.com/vi/AM2Dt7cNebw/hqdefault.jpg?sqp=-oaymwEcCNACELwBSFXyq4qpAw4IARUAAIhCGAFwAcABBg==&rs=AOn4CLBJHWHabeJ94dcUDlDDNfvQxnUfJg\n"
     ]
    }
   ],
   "source": [
    "for index,img_url in enumerate(thumbnail_url):\n",
    "    print(thumbnail_url[index]['src'])"
   ]
  },
  {
   "cell_type": "code",
   "execution_count": 140,
   "id": "095e46ef",
   "metadata": {},
   "outputs": [],
   "source": [
    "title_video = soup.find_all('a',{'class':'yt-simple-endpoint focus-on-expand style-scope ytd-rich-grid-media'})"
   ]
  },
  {
   "cell_type": "code",
   "execution_count": 141,
   "id": "88f3f24c",
   "metadata": {},
   "outputs": [
    {
     "data": {
      "text/plain": [
       "'Best technique to attempt SST paper in Board exam || Class 10th'"
      ]
     },
     "execution_count": 141,
     "metadata": {},
     "output_type": "execute_result"
    }
   ],
   "source": [
    "title_video[1].text"
   ]
  },
  {
   "cell_type": "code",
   "execution_count": 201,
   "id": "ea8de820",
   "metadata": {},
   "outputs": [
    {
     "name": "stdout",
     "output_type": "stream",
     "text": [
      "How to Attempt English Board Exam ????\n",
      "Best technique to attempt SST paper in Board exam || Class 10th\n",
      "Last Minute Strategy To Score More Than 98% || ICSE Boards || Class-10th\n",
      "Why You Should Choose Commerce After 10th? || Complete Information💯\n",
      "Follow This Plan To Score More Than 95% in Boards || Topper's Strategy\n"
     ]
    }
   ],
   "source": [
    "titles_ls = []\n",
    "for index, title in enumerate(title_video):\n",
    "    if len(titles_ls) >= 5:\n",
    "        pass\n",
    "    else:\n",
    "        titles_ls.append(title_video[index].text)\n",
    "for title in titles_ls:\n",
    "    print(title)"
   ]
  },
  {
   "cell_type": "code",
   "execution_count": 202,
   "id": "b0e1f064",
   "metadata": {},
   "outputs": [],
   "source": [
    "# driver.close()"
   ]
  },
  {
   "cell_type": "code",
   "execution_count": 203,
   "id": "1b3b0145",
   "metadata": {},
   "outputs": [],
   "source": [
    "video_views = soup.find_all('span',{'class':'inline-metadata-item style-scope ytd-video-meta-block'})"
   ]
  },
  {
   "cell_type": "code",
   "execution_count": 204,
   "id": "06da324b",
   "metadata": {},
   "outputs": [],
   "source": [
    "all_views = []"
   ]
  },
  {
   "cell_type": "code",
   "execution_count": 205,
   "id": "86ad4521",
   "metadata": {},
   "outputs": [],
   "source": [
    "import re\n",
    "for index,views in enumerate(video_views):\n",
    "    if len(all_views) >=5:\n",
    "        pass\n",
    "    else:\n",
    "        if re.search(\"^[0-9].*views$\",video_views[index].text):\n",
    "            all_views.append(views.text)"
   ]
  },
  {
   "cell_type": "code",
   "execution_count": 223,
   "id": "356a0509",
   "metadata": {},
   "outputs": [
    {
     "name": "stdout",
     "output_type": "stream",
     "text": [
      "152K views\n",
      "56K views\n",
      "22K views\n",
      "28K views\n",
      "315K views\n"
     ]
    }
   ],
   "source": [
    "for views in all_views:\n",
    "    print(views)"
   ]
  },
  {
   "cell_type": "code",
   "execution_count": 231,
   "id": "ee926415",
   "metadata": {},
   "outputs": [],
   "source": [
    "uploaded_time = soup.find_all('span',{'class':'inline-metadata-item style-scope ytd-video-meta-block'})"
   ]
  },
  {
   "cell_type": "code",
   "execution_count": 232,
   "id": "182d85c2",
   "metadata": {},
   "outputs": [],
   "source": [
    "uplodedtimelist = []"
   ]
  },
  {
   "cell_type": "code",
   "execution_count": 233,
   "id": "590ab704",
   "metadata": {},
   "outputs": [],
   "source": [
    "for index,time in enumerate(uploaded_time):\n",
    "    if len(uplodedtimelist) >= 5:\n",
    "        pass\n",
    "    else:\n",
    "        if re.search(\"[0-9].*ago$\",uploaded_time[index].text):\n",
    "            uplodedtimelist.append(uploaded_time[index].text)"
   ]
  },
  {
   "cell_type": "code",
   "execution_count": 234,
   "id": "a56948fc",
   "metadata": {},
   "outputs": [
    {
     "name": "stdout",
     "output_type": "stream",
     "text": [
      "2 days ago\n",
      "3 days ago\n",
      "4 days ago\n",
      "5 days ago\n",
      "10 days ago\n"
     ]
    }
   ],
   "source": [
    "for time in uplodedtimelist:\n",
    "    print(time)"
   ]
  },
  {
   "cell_type": "code",
   "execution_count": null,
   "id": "45e78511",
   "metadata": {},
   "outputs": [],
   "source": []
  }
 ],
 "metadata": {
  "kernelspec": {
   "display_name": "Python 3 (ipykernel)",
   "language": "python",
   "name": "python3"
  },
  "language_info": {
   "codemirror_mode": {
    "name": "ipython",
    "version": 3
   },
   "file_extension": ".py",
   "mimetype": "text/x-python",
   "name": "python",
   "nbconvert_exporter": "python",
   "pygments_lexer": "ipython3",
   "version": "3.11.1"
  }
 },
 "nbformat": 4,
 "nbformat_minor": 5
}
